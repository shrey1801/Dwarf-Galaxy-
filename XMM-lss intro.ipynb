{
 "cells": [
  {
   "cell_type": "code",
   "execution_count": 10,
   "metadata": {},
   "outputs": [],
   "source": [
    "import pandas as pd \n",
    "import matplotlib.pyplot as plt\n",
    "df=pd.read_csv ('../desktop/xmm lss data.csv') # loading in variable df\n",
    "df = df[df.CLASS != 33113]\n",
    "\n"
   ]
  },
  {
   "cell_type": "code",
   "execution_count": 2,
   "metadata": {},
   "outputs": [
    {
     "data": {
      "text/html": [
       "<div>\n",
       "<style scoped>\n",
       "    .dataframe tbody tr th:only-of-type {\n",
       "        vertical-align: middle;\n",
       "    }\n",
       "\n",
       "    .dataframe tbody tr th {\n",
       "        vertical-align: top;\n",
       "    }\n",
       "\n",
       "    .dataframe thead th {\n",
       "        text-align: right;\n",
       "    }\n",
       "</style>\n",
       "<table border=\"1\" class=\"dataframe\">\n",
       "  <thead>\n",
       "    <tr style=\"text-align: right;\">\n",
       "      <th></th>\n",
       "      <th>XID</th>\n",
       "      <th>RA</th>\n",
       "      <th>DEC</th>\n",
       "      <th>XPOSERR</th>\n",
       "      <th>R68</th>\n",
       "      <th>R99</th>\n",
       "      <th>EMLERR</th>\n",
       "      <th>SB_RA</th>\n",
       "      <th>SB_DEC</th>\n",
       "      <th>HB_RA</th>\n",
       "      <th>...</th>\n",
       "      <th>SUPPLEMENTARY_2MASS_HMAGERR</th>\n",
       "      <th>SUPPLEMENTARY_2MASS_KSMAG</th>\n",
       "      <th>SUPPLEMENTARY_2MASS_KSMAGERR</th>\n",
       "      <th>SUPPLEMENTARY_DXS_ID</th>\n",
       "      <th>SUPPLEMENTARY_DXS_RA</th>\n",
       "      <th>SUPPLEMENTARY_DXS_DEC</th>\n",
       "      <th>SUPPLEMENTARY_DXS_JMAG</th>\n",
       "      <th>SUPPLEMENTARY_DXS_JMAGERR</th>\n",
       "      <th>SUPPLEMENTARY_DXS_KSMAG</th>\n",
       "      <th>SUPPLEMENTARY_DXS_KSMAGERR</th>\n",
       "    </tr>\n",
       "  </thead>\n",
       "  <tbody>\n",
       "    <tr>\n",
       "      <td>0</td>\n",
       "      <td>XMM00000</td>\n",
       "      <td>34.200218</td>\n",
       "      <td>-4.035255</td>\n",
       "      <td>1.440815</td>\n",
       "      <td>2.183080</td>\n",
       "      <td>4.954964</td>\n",
       "      <td>1.859529</td>\n",
       "      <td>-99.000000</td>\n",
       "      <td>-99.000000</td>\n",
       "      <td>-99.000000</td>\n",
       "      <td>...</td>\n",
       "      <td>-99.0</td>\n",
       "      <td>-99.0</td>\n",
       "      <td>-99.0</td>\n",
       "      <td>-99.0</td>\n",
       "      <td>-99.0</td>\n",
       "      <td>-99.0</td>\n",
       "      <td>-99.0</td>\n",
       "      <td>-99.0</td>\n",
       "      <td>-99.0</td>\n",
       "      <td>-99.0</td>\n",
       "    </tr>\n",
       "    <tr>\n",
       "      <td>1</td>\n",
       "      <td>XMM00001</td>\n",
       "      <td>34.200713</td>\n",
       "      <td>-4.933734</td>\n",
       "      <td>1.446138</td>\n",
       "      <td>2.191144</td>\n",
       "      <td>4.973267</td>\n",
       "      <td>1.298607</td>\n",
       "      <td>34.200402</td>\n",
       "      <td>-4.933992</td>\n",
       "      <td>-99.000000</td>\n",
       "      <td>...</td>\n",
       "      <td>-99.0</td>\n",
       "      <td>-99.0</td>\n",
       "      <td>-99.0</td>\n",
       "      <td>-99.0</td>\n",
       "      <td>-99.0</td>\n",
       "      <td>-99.0</td>\n",
       "      <td>-99.0</td>\n",
       "      <td>-99.0</td>\n",
       "      <td>-99.0</td>\n",
       "      <td>-99.0</td>\n",
       "    </tr>\n",
       "    <tr>\n",
       "      <td>2</td>\n",
       "      <td>XMM00002</td>\n",
       "      <td>34.201454</td>\n",
       "      <td>-5.556716</td>\n",
       "      <td>1.963844</td>\n",
       "      <td>2.975557</td>\n",
       "      <td>6.753658</td>\n",
       "      <td>2.613413</td>\n",
       "      <td>-99.000000</td>\n",
       "      <td>-99.000000</td>\n",
       "      <td>34.201895</td>\n",
       "      <td>...</td>\n",
       "      <td>-99.0</td>\n",
       "      <td>-99.0</td>\n",
       "      <td>-99.0</td>\n",
       "      <td>-99.0</td>\n",
       "      <td>-99.0</td>\n",
       "      <td>-99.0</td>\n",
       "      <td>-99.0</td>\n",
       "      <td>-99.0</td>\n",
       "      <td>-99.0</td>\n",
       "      <td>-99.0</td>\n",
       "    </tr>\n",
       "  </tbody>\n",
       "</table>\n",
       "<p>3 rows × 369 columns</p>\n",
       "</div>"
      ],
      "text/plain": [
       "        XID         RA       DEC   XPOSERR       R68       R99    EMLERR  \\\n",
       "0  XMM00000  34.200218 -4.035255  1.440815  2.183080  4.954964  1.859529   \n",
       "1  XMM00001  34.200713 -4.933734  1.446138  2.191144  4.973267  1.298607   \n",
       "2  XMM00002  34.201454 -5.556716  1.963844  2.975557  6.753658  2.613413   \n",
       "\n",
       "       SB_RA     SB_DEC      HB_RA  ...  SUPPLEMENTARY_2MASS_HMAGERR  \\\n",
       "0 -99.000000 -99.000000 -99.000000  ...                        -99.0   \n",
       "1  34.200402  -4.933992 -99.000000  ...                        -99.0   \n",
       "2 -99.000000 -99.000000  34.201895  ...                        -99.0   \n",
       "\n",
       "   SUPPLEMENTARY_2MASS_KSMAG  SUPPLEMENTARY_2MASS_KSMAGERR  \\\n",
       "0                      -99.0                         -99.0   \n",
       "1                      -99.0                         -99.0   \n",
       "2                      -99.0                         -99.0   \n",
       "\n",
       "   SUPPLEMENTARY_DXS_ID  SUPPLEMENTARY_DXS_RA  SUPPLEMENTARY_DXS_DEC  \\\n",
       "0                 -99.0                 -99.0                  -99.0   \n",
       "1                 -99.0                 -99.0                  -99.0   \n",
       "2                 -99.0                 -99.0                  -99.0   \n",
       "\n",
       "   SUPPLEMENTARY_DXS_JMAG  SUPPLEMENTARY_DXS_JMAGERR  SUPPLEMENTARY_DXS_KSMAG  \\\n",
       "0                   -99.0                      -99.0                    -99.0   \n",
       "1                   -99.0                      -99.0                    -99.0   \n",
       "2                   -99.0                      -99.0                    -99.0   \n",
       "\n",
       "   SUPPLEMENTARY_DXS_KSMAGERR  \n",
       "0                       -99.0  \n",
       "1                       -99.0  \n",
       "2                       -99.0  \n",
       "\n",
       "[3 rows x 369 columns]"
      ]
     },
     "execution_count": 2,
     "metadata": {},
     "output_type": "execute_result"
    }
   ],
   "source": [
    "# print first three rows \n",
    "df.head(3)\n",
    "\n",
    "\n"
   ]
  },
  {
   "cell_type": "code",
   "execution_count": 4,
   "metadata": {},
   "outputs": [
    {
     "data": {
      "text/html": [
       "<div>\n",
       "<style scoped>\n",
       "    .dataframe tbody tr th:only-of-type {\n",
       "        vertical-align: middle;\n",
       "    }\n",
       "\n",
       "    .dataframe tbody tr th {\n",
       "        vertical-align: top;\n",
       "    }\n",
       "\n",
       "    .dataframe thead th {\n",
       "        text-align: right;\n",
       "    }\n",
       "</style>\n",
       "<table border=\"1\" class=\"dataframe\">\n",
       "  <thead>\n",
       "    <tr style=\"text-align: right;\">\n",
       "      <th></th>\n",
       "      <th>XID</th>\n",
       "      <th>RA</th>\n",
       "      <th>DEC</th>\n",
       "      <th>XPOSERR</th>\n",
       "      <th>R68</th>\n",
       "      <th>R99</th>\n",
       "      <th>EMLERR</th>\n",
       "      <th>SB_RA</th>\n",
       "      <th>SB_DEC</th>\n",
       "      <th>HB_RA</th>\n",
       "      <th>...</th>\n",
       "      <th>SUPPLEMENTARY_2MASS_HMAGERR</th>\n",
       "      <th>SUPPLEMENTARY_2MASS_KSMAG</th>\n",
       "      <th>SUPPLEMENTARY_2MASS_KSMAGERR</th>\n",
       "      <th>SUPPLEMENTARY_DXS_ID</th>\n",
       "      <th>SUPPLEMENTARY_DXS_RA</th>\n",
       "      <th>SUPPLEMENTARY_DXS_DEC</th>\n",
       "      <th>SUPPLEMENTARY_DXS_JMAG</th>\n",
       "      <th>SUPPLEMENTARY_DXS_JMAGERR</th>\n",
       "      <th>SUPPLEMENTARY_DXS_KSMAG</th>\n",
       "      <th>SUPPLEMENTARY_DXS_KSMAGERR</th>\n",
       "    </tr>\n",
       "  </thead>\n",
       "  <tbody>\n",
       "    <tr>\n",
       "      <td>5237</td>\n",
       "      <td>XMM05237</td>\n",
       "      <td>37.121046</td>\n",
       "      <td>-5.302696</td>\n",
       "      <td>1.687312</td>\n",
       "      <td>2.556564</td>\n",
       "      <td>5.802664</td>\n",
       "      <td>2.312231</td>\n",
       "      <td>-99.000000</td>\n",
       "      <td>-99.000000</td>\n",
       "      <td>37.121046</td>\n",
       "      <td>...</td>\n",
       "      <td>-99.000</td>\n",
       "      <td>-99.000</td>\n",
       "      <td>-99.000</td>\n",
       "      <td>-9.900000e+01</td>\n",
       "      <td>-99.000000</td>\n",
       "      <td>-99.000000</td>\n",
       "      <td>-99.000000</td>\n",
       "      <td>-99.000</td>\n",
       "      <td>-99.000000</td>\n",
       "      <td>-99.000</td>\n",
       "    </tr>\n",
       "    <tr>\n",
       "      <td>5238</td>\n",
       "      <td>XMM05238</td>\n",
       "      <td>37.121542</td>\n",
       "      <td>-4.991847</td>\n",
       "      <td>1.723160</td>\n",
       "      <td>2.610880</td>\n",
       "      <td>5.925947</td>\n",
       "      <td>2.587195</td>\n",
       "      <td>37.121137</td>\n",
       "      <td>-4.993075</td>\n",
       "      <td>-99.000000</td>\n",
       "      <td>...</td>\n",
       "      <td>-99.000</td>\n",
       "      <td>-99.000</td>\n",
       "      <td>-99.000</td>\n",
       "      <td>4.466796e+11</td>\n",
       "      <td>37.121237</td>\n",
       "      <td>-4.992683</td>\n",
       "      <td>20.007999</td>\n",
       "      <td>0.034</td>\n",
       "      <td>20.007999</td>\n",
       "      <td>0.034</td>\n",
       "    </tr>\n",
       "    <tr>\n",
       "      <td>5239</td>\n",
       "      <td>XMM05239</td>\n",
       "      <td>37.122121</td>\n",
       "      <td>-4.856480</td>\n",
       "      <td>1.204595</td>\n",
       "      <td>1.825166</td>\n",
       "      <td>4.142601</td>\n",
       "      <td>1.002217</td>\n",
       "      <td>37.121549</td>\n",
       "      <td>-4.857101</td>\n",
       "      <td>-99.000000</td>\n",
       "      <td>...</td>\n",
       "      <td>0.085</td>\n",
       "      <td>14.013</td>\n",
       "      <td>0.071</td>\n",
       "      <td>4.466795e+11</td>\n",
       "      <td>37.122197</td>\n",
       "      <td>-4.856518</td>\n",
       "      <td>15.743000</td>\n",
       "      <td>0.003</td>\n",
       "      <td>15.743000</td>\n",
       "      <td>0.003</td>\n",
       "    </tr>\n",
       "    <tr>\n",
       "      <td>5240</td>\n",
       "      <td>XMM05240</td>\n",
       "      <td>37.123738</td>\n",
       "      <td>-5.184012</td>\n",
       "      <td>1.715078</td>\n",
       "      <td>2.598634</td>\n",
       "      <td>5.898152</td>\n",
       "      <td>1.925437</td>\n",
       "      <td>37.123822</td>\n",
       "      <td>-5.184284</td>\n",
       "      <td>-99.000000</td>\n",
       "      <td>...</td>\n",
       "      <td>-99.000</td>\n",
       "      <td>-99.000</td>\n",
       "      <td>-99.000</td>\n",
       "      <td>-9.900000e+01</td>\n",
       "      <td>-99.000000</td>\n",
       "      <td>-99.000000</td>\n",
       "      <td>-99.000000</td>\n",
       "      <td>-99.000</td>\n",
       "      <td>-99.000000</td>\n",
       "      <td>-99.000</td>\n",
       "    </tr>\n",
       "    <tr>\n",
       "      <td>5241</td>\n",
       "      <td>XMM05241</td>\n",
       "      <td>37.123955</td>\n",
       "      <td>-3.947922</td>\n",
       "      <td>1.542615</td>\n",
       "      <td>2.337324</td>\n",
       "      <td>5.305054</td>\n",
       "      <td>1.379947</td>\n",
       "      <td>37.124179</td>\n",
       "      <td>-3.947847</td>\n",
       "      <td>-99.000000</td>\n",
       "      <td>...</td>\n",
       "      <td>-99.000</td>\n",
       "      <td>-99.000</td>\n",
       "      <td>-99.000</td>\n",
       "      <td>4.466793e+11</td>\n",
       "      <td>37.124346</td>\n",
       "      <td>-3.947772</td>\n",
       "      <td>-99.000000</td>\n",
       "      <td>-99.000</td>\n",
       "      <td>-99.000000</td>\n",
       "      <td>-99.000</td>\n",
       "    </tr>\n",
       "  </tbody>\n",
       "</table>\n",
       "<p>5 rows × 369 columns</p>\n",
       "</div>"
      ],
      "text/plain": [
       "           XID         RA       DEC   XPOSERR       R68       R99    EMLERR  \\\n",
       "5237  XMM05237  37.121046 -5.302696  1.687312  2.556564  5.802664  2.312231   \n",
       "5238  XMM05238  37.121542 -4.991847  1.723160  2.610880  5.925947  2.587195   \n",
       "5239  XMM05239  37.122121 -4.856480  1.204595  1.825166  4.142601  1.002217   \n",
       "5240  XMM05240  37.123738 -5.184012  1.715078  2.598634  5.898152  1.925437   \n",
       "5241  XMM05241  37.123955 -3.947922  1.542615  2.337324  5.305054  1.379947   \n",
       "\n",
       "          SB_RA     SB_DEC      HB_RA  ...  SUPPLEMENTARY_2MASS_HMAGERR  \\\n",
       "5237 -99.000000 -99.000000  37.121046  ...                      -99.000   \n",
       "5238  37.121137  -4.993075 -99.000000  ...                      -99.000   \n",
       "5239  37.121549  -4.857101 -99.000000  ...                        0.085   \n",
       "5240  37.123822  -5.184284 -99.000000  ...                      -99.000   \n",
       "5241  37.124179  -3.947847 -99.000000  ...                      -99.000   \n",
       "\n",
       "      SUPPLEMENTARY_2MASS_KSMAG  SUPPLEMENTARY_2MASS_KSMAGERR  \\\n",
       "5237                    -99.000                       -99.000   \n",
       "5238                    -99.000                       -99.000   \n",
       "5239                     14.013                         0.071   \n",
       "5240                    -99.000                       -99.000   \n",
       "5241                    -99.000                       -99.000   \n",
       "\n",
       "      SUPPLEMENTARY_DXS_ID  SUPPLEMENTARY_DXS_RA  SUPPLEMENTARY_DXS_DEC  \\\n",
       "5237         -9.900000e+01            -99.000000             -99.000000   \n",
       "5238          4.466796e+11             37.121237              -4.992683   \n",
       "5239          4.466795e+11             37.122197              -4.856518   \n",
       "5240         -9.900000e+01            -99.000000             -99.000000   \n",
       "5241          4.466793e+11             37.124346              -3.947772   \n",
       "\n",
       "      SUPPLEMENTARY_DXS_JMAG  SUPPLEMENTARY_DXS_JMAGERR  \\\n",
       "5237              -99.000000                    -99.000   \n",
       "5238               20.007999                      0.034   \n",
       "5239               15.743000                      0.003   \n",
       "5240              -99.000000                    -99.000   \n",
       "5241              -99.000000                    -99.000   \n",
       "\n",
       "      SUPPLEMENTARY_DXS_KSMAG  SUPPLEMENTARY_DXS_KSMAGERR  \n",
       "5237               -99.000000                     -99.000  \n",
       "5238                20.007999                       0.034  \n",
       "5239                15.743000                       0.003  \n",
       "5240               -99.000000                     -99.000  \n",
       "5241               -99.000000                     -99.000  \n",
       "\n",
       "[5 rows x 369 columns]"
      ]
     },
     "execution_count": 4,
     "metadata": {},
     "output_type": "execute_result"
    }
   ],
   "source": [
    "# print bottom 5 rows \n",
    "df.tail(5)\n",
    "\n"
   ]
  },
  {
   "cell_type": "code",
   "execution_count": 5,
   "metadata": {},
   "outputs": [
    {
     "name": "stdout",
     "output_type": "stream",
     "text": [
      "Index(['XID', 'RA', 'DEC', 'XPOSERR', 'R68', 'R99', 'EMLERR', 'SB_RA',\n",
      "       'SB_DEC', 'HB_RA',\n",
      "       ...\n",
      "       'SUPPLEMENTARY_2MASS_HMAGERR', 'SUPPLEMENTARY_2MASS_KSMAG',\n",
      "       'SUPPLEMENTARY_2MASS_KSMAGERR', 'SUPPLEMENTARY_DXS_ID',\n",
      "       'SUPPLEMENTARY_DXS_RA', 'SUPPLEMENTARY_DXS_DEC',\n",
      "       'SUPPLEMENTARY_DXS_JMAG', 'SUPPLEMENTARY_DXS_JMAGERR',\n",
      "       'SUPPLEMENTARY_DXS_KSMAG', 'SUPPLEMENTARY_DXS_KSMAGERR'],\n",
      "      dtype='object', length=369)\n"
     ]
    }
   ],
   "source": [
    "# read header\n",
    "print(df.columns)"
   ]
  },
  {
   "cell_type": "code",
   "execution_count": 11,
   "metadata": {},
   "outputs": [
    {
     "name": "stdout",
     "output_type": "stream",
     "text": [
      "0       XMM00000\n",
      "1       XMM00001\n",
      "2       XMM00002\n",
      "3       XMM00003\n",
      "4       XMM00004\n",
      "          ...   \n",
      "5236    XMM05236\n",
      "5237    XMM05237\n",
      "5238    XMM05238\n",
      "5240    XMM05240\n",
      "5241    XMM05241\n",
      "Name: XID, Length: 5029, dtype: object\n"
     ]
    }
   ],
   "source": [
    "# read a particular column \n",
    "print (df['XID'])"
   ]
  },
  {
   "cell_type": "code",
   "execution_count": 10,
   "metadata": {},
   "outputs": [
    {
     "name": "stdout",
     "output_type": "stream",
     "text": [
      "XID                           XMM00003\n",
      "RA                             34.2015\n",
      "DEC                           -4.49931\n",
      "XPOSERR                        1.50162\n",
      "R68                             2.2752\n",
      "                                ...   \n",
      "SUPPLEMENTARY_DXS_DEC              -99\n",
      "SUPPLEMENTARY_DXS_JMAG             -99\n",
      "SUPPLEMENTARY_DXS_JMAGERR          -99\n",
      "SUPPLEMENTARY_DXS_KSMAG            -99\n",
      "SUPPLEMENTARY_DXS_KSMAGERR         -99\n",
      "Name: 3, Length: 369, dtype: object\n"
     ]
    }
   ],
   "source": [
    "#read a particular row \n",
    "print (df.iloc[3])"
   ]
  },
  {
   "cell_type": "code",
   "execution_count": 27,
   "metadata": {},
   "outputs": [
    {
     "data": {
      "text/plain": [
       "Text(0.5, 0, 'hardness ratio')"
      ]
     },
     "execution_count": 27,
     "metadata": {},
     "output_type": "execute_result"
    },
    {
     "data": {
      "image/png": "[encoded data removed]",
      "text/plain": [
       "<Figure size 432x288 with 1 Axes>"
      ]
     },
     "metadata": {
      "needs_background": "light"
     },
     "output_type": "display_data"
    }
   ],
   "source": [
    "# hardness ratio \n",
    "hr= (df['HR'])\n",
    "histhr= plt.hist(hr,range= [-1.5,1.5],edgecolor='black')\n",
    "plt.title('hardness ratio')\n",
    "plt.ylabel('N')\n",
    "plt.xlabel('hardness ratio')"
   ]
  },
  {
   "cell_type": "code",
   "execution_count": 28,
   "metadata": {},
   "outputs": [
    {
     "name": "stdout",
     "output_type": "stream",
     "text": [
      "\u001b[H\u001b[2J"
     ]
    }
   ],
   "source": [
    "clear"
   ]
  },
  {
   "cell_type": "code",
   "execution_count": 7,
   "metadata": {},
   "outputs": [
    {
     "data": {
      "text/plain": [
       "(-1.5, 1.5)"
      ]
     },
     "execution_count": 7,
     "metadata": {},
     "output_type": "execute_result"
    },
    {
     "data": {
      "image/png": "[encoded data removed]",
      "text/plain": [
       "<Figure size 432x288 with 1 Axes>"
      ]
     },
     "metadata": {
      "needs_background": "light"
     },
     "output_type": "display_data"
    }
   ],
   "source": [
    "# x ray luminosity vs hardness ratio\n",
    "plt.scatter (df['HR'],df['LX'])\n",
    "axes = plt.gca()\n",
    "axes.set_xlim([-1.5,1.5])\n",
    " "
   ]
  },
  {
   "cell_type": "code",
   "execution_count": null,
   "metadata": {},
   "outputs": [],
   "source": []
  }
 ],
 "metadata": {
  "kernelspec": {
   "display_name": "Python 3",
   "language": "python",
   "name": "python3"
  },
  "language_info": {
   "codemirror_mode": {
    "name": "ipython",
    "version": 3
   },
   "file_extension": ".py",
   "mimetype": "text/x-python",
   "name": "python",
   "nbconvert_exporter": "python",
   "pygments_lexer": "ipython3",
   "version": "3.7.4"
  }
 },
 "nbformat": 4,
 "nbformat_minor": 4
}
